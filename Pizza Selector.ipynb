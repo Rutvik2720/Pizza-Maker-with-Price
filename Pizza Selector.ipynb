{
 "cells": [
  {
   "cell_type": "code",
   "execution_count": 1,
   "id": "c2a4b5cf",
   "metadata": {},
   "outputs": [],
   "source": [
    "from typing import List\n",
    "\n",
    "class Pizza:\n",
    "    size_dict = {'small': 6.49, 'medium': 8.49, 'large': 10.49, 'x-large': 13.49}\n",
    "    PER_TOPPING_COST = 0.5\n",
    "\n",
    "    def __init__(self, size='medium', toppings=['cheese']):\n",
    "        self.size = size\n",
    "        self.__toppings = toppings\n",
    "    \n",
    "    def add(self, toppings: List[str]):\n",
    "        self.__toppings.extend(toppings)\n",
    "\n",
    "    @property\n",
    "    def size(self):\n",
    "        return self._temperature\n",
    "\n",
    "    @size.setter\n",
    "    def size(self, size):\n",
    "        if size not in Pizza.size_dict:\n",
    "            raise ValueError(f'ERROR: {size} is not a valid size for a pizza')\n",
    "        \n",
    "        self.__size = size\n",
    "\n",
    "    @property\n",
    "    def cost(self):\n",
    "        return Pizza.size_dict[(self.__size)] + len(self.__toppings) * Pizza.PER_TOPPING_COST\n",
    "\n",
    "    def __str__(self):\n",
    "        return f'{self.__size} pizza with {self.__toppings} for ${self.cost:.2f}'"
   ]
  },
  {
   "cell_type": "code",
   "execution_count": 2,
   "id": "5f5479c9",
   "metadata": {},
   "outputs": [
    {
     "name": "stdout",
     "output_type": "stream",
     "text": [
      "Creating a default pizza\n",
      "medium pizza with ['cheese'] for $8.99\n",
      "\n",
      " Adding Topping: {toppings}\n",
      "medium pizza with ['cheese', 'cheese', 'olive'] for $9.99\n",
      "\n",
      " Creating a new pizza \n",
      "large pizza with ['cheese', 'pepper'] for $11.49\n",
      "\n",
      " Adding topping: {toppings}\n",
      "large pizza with ['cheese', 'pepper', 'pineapple', 'mushroom'] for $12.49\n",
      "\n",
      " Change order size to {size}\n",
      "x-large pizza with ['cheese', 'pepper', 'pineapple', 'mushroom'] for $15.49\n",
      "\n",
      " Changing order size to {size}\n",
      "ERROR: gigantic is not a valid size for a pizza\n"
     ]
    }
   ],
   "source": [
    "print('Creating a default pizza')\n",
    "p = Pizza()\n",
    "print(p)\n",
    "\n",
    "toppings = 'cheese olive'.split()\n",
    "print('\\n Adding Topping: {toppings}')\n",
    "p.add(toppings)\n",
    "print(p)\n",
    "\n",
    "print(\"\\n Creating a new pizza \")\n",
    "p = Pizza('large','cheese pepper'.split())\n",
    "print(p)\n",
    "\n",
    "toppings  = ['pineapple','mushroom']\n",
    "print('\\n Adding topping: {toppings}')\n",
    "p.add(toppings)\n",
    "print(p)\n",
    "\n",
    "size = 'x-large'\n",
    "p.size = size\n",
    "print('\\n Change order size to {size}')\n",
    "print(p)\n",
    "\n",
    "size = 'gigantic'\n",
    "print('\\n Changing order size to {size}')\n",
    "try:\n",
    "    p.size = size\n",
    "except ValueError as err:\n",
    "    print(err)"
   ]
  },
  {
   "cell_type": "code",
   "execution_count": null,
   "id": "0b28ccbb",
   "metadata": {},
   "outputs": [],
   "source": []
  }
 ],
 "metadata": {
  "kernelspec": {
   "display_name": "Python 3 (ipykernel)",
   "language": "python",
   "name": "python3"
  },
  "language_info": {
   "codemirror_mode": {
    "name": "ipython",
    "version": 3
   },
   "file_extension": ".py",
   "mimetype": "text/x-python",
   "name": "python",
   "nbconvert_exporter": "python",
   "pygments_lexer": "ipython3",
   "version": "3.9.12"
  }
 },
 "nbformat": 4,
 "nbformat_minor": 5
}
